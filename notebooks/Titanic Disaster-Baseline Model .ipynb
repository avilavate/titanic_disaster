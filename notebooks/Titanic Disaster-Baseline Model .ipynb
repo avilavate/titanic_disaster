{
 "cells": [
  {
   "cell_type": "markdown",
   "id": "damaged-paris",
   "metadata": {},
   "source": [
    "### Baseline model (returns the survived value based on its probability in training data set)"
   ]
  },
  {
   "cell_type": "markdown",
   "id": "complimentary-lightweight",
   "metadata": {},
   "source": [
    "##### Import processed training data for baseline model"
   ]
  },
  {
   "cell_type": "code",
   "execution_count": 3,
   "id": "premier-discretion",
   "metadata": {},
   "outputs": [],
   "source": [
    "import pandas as pd\n",
    "import numpy as np\n",
    "import os as os"
   ]
  },
  {
   "cell_type": "code",
   "execution_count": 4,
   "id": "lucky-inflation",
   "metadata": {},
   "outputs": [],
   "source": [
    "processed_dir_path=os.path.join(os.pardir,\"data\", \"processed\")\n",
    "processed_data_path=os.path.join(processed_dir_path,\"train.csv\")\n",
    "processed_test_path=os.path.join(processed_dir_path,\"test.csv\")"
   ]
  },
  {
   "cell_type": "code",
   "execution_count": 7,
   "id": "twenty-boost",
   "metadata": {},
   "outputs": [],
   "source": [
    "train_df=pd.read_csv(processed_data_path, index_col=\"PassengerId\")\n",
    "test_df=pd.read_csv(processed_test_path, index_col=\"PassengerId\")"
   ]
  },
  {
   "cell_type": "code",
   "execution_count": 8,
   "id": "political-latex",
   "metadata": {},
   "outputs": [
    {
     "name": "stdout",
     "output_type": "stream",
     "text": [
      "<class 'pandas.core.frame.DataFrame'>\n",
      "Int64Index: 891 entries, 1 to 891\n",
      "Data columns (total 36 columns):\n",
      " #   Column              Non-Null Count  Dtype  \n",
      "---  ------              --------------  -----  \n",
      " 0   Survived            891 non-null    int64  \n",
      " 1   Age                 891 non-null    float64\n",
      " 2   Fare                891 non-null    float64\n",
      " 3   Cabin               204 non-null    object \n",
      " 4   Family_Size         891 non-null    int64  \n",
      " 5   IS_Mother           891 non-null    int64  \n",
      " 6   Is_Male             891 non-null    int64  \n",
      " 7   Deck_A              891 non-null    int64  \n",
      " 8   Deck_B              891 non-null    int64  \n",
      " 9   Deck_C              891 non-null    int64  \n",
      " 10  Deck_D              891 non-null    int64  \n",
      " 11  Deck_E              891 non-null    int64  \n",
      " 12  Deck_F              891 non-null    int64  \n",
      " 13  Deck_G              891 non-null    int64  \n",
      " 14  Deck_T              891 non-null    int64  \n",
      " 15  Deck_Z              891 non-null    int64  \n",
      " 16  Pclass_1            891 non-null    int64  \n",
      " 17  Pclass_2            891 non-null    int64  \n",
      " 18  Pclass_3            891 non-null    int64  \n",
      " 19  Title_Lady          891 non-null    int64  \n",
      " 20  Title_Master        891 non-null    int64  \n",
      " 21  Title_Miss          891 non-null    int64  \n",
      " 22  Title_Mr            891 non-null    int64  \n",
      " 23  Title_Mrs           891 non-null    int64  \n",
      " 24  Title_Ms            891 non-null    int64  \n",
      " 25  Title_Officer       891 non-null    int64  \n",
      " 26  Title_Sir           891 non-null    int64  \n",
      " 27  Fare_Bin_very_low   891 non-null    int64  \n",
      " 28  Fare_Bin_low        891 non-null    int64  \n",
      " 29  Fare_Bin_high       891 non-null    int64  \n",
      " 30  Fare_Bin_very_high  891 non-null    int64  \n",
      " 31  Embarked_C          891 non-null    int64  \n",
      " 32  Embarked_Q          891 non-null    int64  \n",
      " 33  Embarked_S          891 non-null    int64  \n",
      " 34  Age_State_Adult     891 non-null    int64  \n",
      " 35  Age_State_Child     891 non-null    int64  \n",
      "dtypes: float64(2), int64(33), object(1)\n",
      "memory usage: 257.6+ KB\n"
     ]
    }
   ],
   "source": [
    "train_df.info()"
   ]
  },
  {
   "cell_type": "code",
   "execution_count": 9,
   "id": "residential-chancellor",
   "metadata": {},
   "outputs": [
    {
     "name": "stdout",
     "output_type": "stream",
     "text": [
      "<class 'pandas.core.frame.DataFrame'>\n",
      "Int64Index: 418 entries, 892 to 1309\n",
      "Data columns (total 35 columns):\n",
      " #   Column              Non-Null Count  Dtype  \n",
      "---  ------              --------------  -----  \n",
      " 0   Age                 418 non-null    float64\n",
      " 1   Fare                418 non-null    float64\n",
      " 2   Cabin               91 non-null     object \n",
      " 3   Family_Size         418 non-null    int64  \n",
      " 4   IS_Mother           418 non-null    int64  \n",
      " 5   Is_Male             418 non-null    int64  \n",
      " 6   Deck_A              418 non-null    int64  \n",
      " 7   Deck_B              418 non-null    int64  \n",
      " 8   Deck_C              418 non-null    int64  \n",
      " 9   Deck_D              418 non-null    int64  \n",
      " 10  Deck_E              418 non-null    int64  \n",
      " 11  Deck_F              418 non-null    int64  \n",
      " 12  Deck_G              418 non-null    int64  \n",
      " 13  Deck_T              418 non-null    int64  \n",
      " 14  Deck_Z              418 non-null    int64  \n",
      " 15  Pclass_1            418 non-null    int64  \n",
      " 16  Pclass_2            418 non-null    int64  \n",
      " 17  Pclass_3            418 non-null    int64  \n",
      " 18  Title_Lady          418 non-null    int64  \n",
      " 19  Title_Master        418 non-null    int64  \n",
      " 20  Title_Miss          418 non-null    int64  \n",
      " 21  Title_Mr            418 non-null    int64  \n",
      " 22  Title_Mrs           418 non-null    int64  \n",
      " 23  Title_Ms            418 non-null    int64  \n",
      " 24  Title_Officer       418 non-null    int64  \n",
      " 25  Title_Sir           418 non-null    int64  \n",
      " 26  Fare_Bin_very_low   418 non-null    int64  \n",
      " 27  Fare_Bin_low        418 non-null    int64  \n",
      " 28  Fare_Bin_high       418 non-null    int64  \n",
      " 29  Fare_Bin_very_high  418 non-null    int64  \n",
      " 30  Embarked_C          418 non-null    int64  \n",
      " 31  Embarked_Q          418 non-null    int64  \n",
      " 32  Embarked_S          418 non-null    int64  \n",
      " 33  Age_State_Adult     418 non-null    int64  \n",
      " 34  Age_State_Child     418 non-null    int64  \n",
      "dtypes: float64(2), int64(32), object(1)\n",
      "memory usage: 117.6+ KB\n"
     ]
    }
   ],
   "source": [
    "test_df.info()"
   ]
  },
  {
   "cell_type": "code",
   "execution_count": null,
   "id": "maritime-throw",
   "metadata": {},
   "outputs": [],
   "source": []
  }
 ],
 "metadata": {
  "kernelspec": {
   "display_name": "Python 3",
   "language": "python",
   "name": "python3"
  },
  "language_info": {
   "codemirror_mode": {
    "name": "ipython",
    "version": 3
   },
   "file_extension": ".py",
   "mimetype": "text/x-python",
   "name": "python",
   "nbconvert_exporter": "python",
   "pygments_lexer": "ipython3",
   "version": "3.9.2"
  }
 },
 "nbformat": 4,
 "nbformat_minor": 5
}
