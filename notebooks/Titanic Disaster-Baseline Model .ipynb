{
 "cells": [
  {
   "cell_type": "markdown",
   "id": "painful-circular",
   "metadata": {},
   "source": [
    "### Baseline model (returns the survived value based on its probability in training data set)"
   ]
  },
  {
   "cell_type": "markdown",
   "id": "artistic-employment",
   "metadata": {},
   "source": [
    "##### Import processed training data for baseline model"
   ]
  },
  {
   "cell_type": "code",
   "execution_count": 46,
   "id": "rough-grill",
   "metadata": {},
   "outputs": [],
   "source": [
    "import pandas as pd\n",
    "import numpy as np\n",
    "import os as os\n",
    "import sklearn"
   ]
  },
  {
   "cell_type": "code",
   "execution_count": 4,
   "id": "aquatic-amsterdam",
   "metadata": {},
   "outputs": [],
   "source": [
    "processed_dir_path=os.path.join(os.pardir,\"data\", \"processed\")\n",
    "processed_data_path=os.path.join(processed_dir_path,\"train.csv\")\n",
    "processed_test_path=os.path.join(processed_dir_path,\"test.csv\")"
   ]
  },
  {
   "cell_type": "code",
   "execution_count": 7,
   "id": "aboriginal-weight",
   "metadata": {},
   "outputs": [],
   "source": [
    "train_df=pd.read_csv(processed_data_path, index_col=\"PassengerId\")\n",
    "test_df=pd.read_csv(processed_test_path, index_col=\"PassengerId\")"
   ]
  },
  {
   "cell_type": "code",
   "execution_count": 8,
   "id": "miniature-survey",
   "metadata": {},
   "outputs": [
    {
     "name": "stdout",
     "output_type": "stream",
     "text": [
      "<class 'pandas.core.frame.DataFrame'>\n",
      "Int64Index: 891 entries, 1 to 891\n",
      "Data columns (total 36 columns):\n",
      " #   Column              Non-Null Count  Dtype  \n",
      "---  ------              --------------  -----  \n",
      " 0   Survived            891 non-null    int64  \n",
      " 1   Age                 891 non-null    float64\n",
      " 2   Fare                891 non-null    float64\n",
      " 3   Cabin               204 non-null    object \n",
      " 4   Family_Size         891 non-null    int64  \n",
      " 5   IS_Mother           891 non-null    int64  \n",
      " 6   Is_Male             891 non-null    int64  \n",
      " 7   Deck_A              891 non-null    int64  \n",
      " 8   Deck_B              891 non-null    int64  \n",
      " 9   Deck_C              891 non-null    int64  \n",
      " 10  Deck_D              891 non-null    int64  \n",
      " 11  Deck_E              891 non-null    int64  \n",
      " 12  Deck_F              891 non-null    int64  \n",
      " 13  Deck_G              891 non-null    int64  \n",
      " 14  Deck_T              891 non-null    int64  \n",
      " 15  Deck_Z              891 non-null    int64  \n",
      " 16  Pclass_1            891 non-null    int64  \n",
      " 17  Pclass_2            891 non-null    int64  \n",
      " 18  Pclass_3            891 non-null    int64  \n",
      " 19  Title_Lady          891 non-null    int64  \n",
      " 20  Title_Master        891 non-null    int64  \n",
      " 21  Title_Miss          891 non-null    int64  \n",
      " 22  Title_Mr            891 non-null    int64  \n",
      " 23  Title_Mrs           891 non-null    int64  \n",
      " 24  Title_Ms            891 non-null    int64  \n",
      " 25  Title_Officer       891 non-null    int64  \n",
      " 26  Title_Sir           891 non-null    int64  \n",
      " 27  Fare_Bin_very_low   891 non-null    int64  \n",
      " 28  Fare_Bin_low        891 non-null    int64  \n",
      " 29  Fare_Bin_high       891 non-null    int64  \n",
      " 30  Fare_Bin_very_high  891 non-null    int64  \n",
      " 31  Embarked_C          891 non-null    int64  \n",
      " 32  Embarked_Q          891 non-null    int64  \n",
      " 33  Embarked_S          891 non-null    int64  \n",
      " 34  Age_State_Adult     891 non-null    int64  \n",
      " 35  Age_State_Child     891 non-null    int64  \n",
      "dtypes: float64(2), int64(33), object(1)\n",
      "memory usage: 257.6+ KB\n"
     ]
    }
   ],
   "source": [
    "train_df.info()"
   ]
  },
  {
   "cell_type": "code",
   "execution_count": 9,
   "id": "stainless-referral",
   "metadata": {},
   "outputs": [
    {
     "name": "stdout",
     "output_type": "stream",
     "text": [
      "<class 'pandas.core.frame.DataFrame'>\n",
      "Int64Index: 418 entries, 892 to 1309\n",
      "Data columns (total 35 columns):\n",
      " #   Column              Non-Null Count  Dtype  \n",
      "---  ------              --------------  -----  \n",
      " 0   Age                 418 non-null    float64\n",
      " 1   Fare                418 non-null    float64\n",
      " 2   Cabin               91 non-null     object \n",
      " 3   Family_Size         418 non-null    int64  \n",
      " 4   IS_Mother           418 non-null    int64  \n",
      " 5   Is_Male             418 non-null    int64  \n",
      " 6   Deck_A              418 non-null    int64  \n",
      " 7   Deck_B              418 non-null    int64  \n",
      " 8   Deck_C              418 non-null    int64  \n",
      " 9   Deck_D              418 non-null    int64  \n",
      " 10  Deck_E              418 non-null    int64  \n",
      " 11  Deck_F              418 non-null    int64  \n",
      " 12  Deck_G              418 non-null    int64  \n",
      " 13  Deck_T              418 non-null    int64  \n",
      " 14  Deck_Z              418 non-null    int64  \n",
      " 15  Pclass_1            418 non-null    int64  \n",
      " 16  Pclass_2            418 non-null    int64  \n",
      " 17  Pclass_3            418 non-null    int64  \n",
      " 18  Title_Lady          418 non-null    int64  \n",
      " 19  Title_Master        418 non-null    int64  \n",
      " 20  Title_Miss          418 non-null    int64  \n",
      " 21  Title_Mr            418 non-null    int64  \n",
      " 22  Title_Mrs           418 non-null    int64  \n",
      " 23  Title_Ms            418 non-null    int64  \n",
      " 24  Title_Officer       418 non-null    int64  \n",
      " 25  Title_Sir           418 non-null    int64  \n",
      " 26  Fare_Bin_very_low   418 non-null    int64  \n",
      " 27  Fare_Bin_low        418 non-null    int64  \n",
      " 28  Fare_Bin_high       418 non-null    int64  \n",
      " 29  Fare_Bin_very_high  418 non-null    int64  \n",
      " 30  Embarked_C          418 non-null    int64  \n",
      " 31  Embarked_Q          418 non-null    int64  \n",
      " 32  Embarked_S          418 non-null    int64  \n",
      " 33  Age_State_Adult     418 non-null    int64  \n",
      " 34  Age_State_Child     418 non-null    int64  \n",
      "dtypes: float64(2), int64(32), object(1)\n",
      "memory usage: 117.6+ KB\n"
     ]
    }
   ],
   "source": [
    "test_df.info()"
   ]
  },
  {
   "cell_type": "code",
   "execution_count": 18,
   "id": "dedicated-roman",
   "metadata": {},
   "outputs": [],
   "source": [
    "train_df.drop(\"Cabin\", axis=1, inplace=True)"
   ]
  },
  {
   "cell_type": "code",
   "execution_count": 26,
   "id": "chief-appreciation",
   "metadata": {},
   "outputs": [],
   "source": [
    "X= train_df.loc[:,\"Age\":].to_numpy().astype('float')\n",
    "y= train_df[\"Survived\"].ravel()"
   ]
  },
  {
   "cell_type": "code",
   "execution_count": 28,
   "id": "controlling-snowboard",
   "metadata": {},
   "outputs": [
    {
     "data": {
      "text/plain": [
       "array([0, 1, 1, 1, 0, 0, 0, 0, 1, 1, 1, 1, 0, 0, 0, 1, 0, 1, 0, 1, 0, 1,\n",
       "       1, 1, 0, 1, 0, 0, 1, 0, 0, 1, 1, 0, 0, 0, 1, 0, 0, 1, 0, 0, 0, 1,\n",
       "       1, 0, 0, 1, 0, 0, 0, 0, 1, 1, 0, 1, 1, 0, 1, 0, 0, 1, 0, 0, 0, 1,\n",
       "       1, 0, 1, 0, 0, 0, 0, 0, 1, 0, 0, 0, 1, 1, 0, 1, 1, 0, 1, 1, 0, 0,\n",
       "       1, 0, 0, 0, 0, 0, 0, 0, 0, 1, 1, 0, 0, 0, 0, 0, 0, 0, 1, 1, 0, 1,\n",
       "       0, 0, 0, 0, 0, 0, 0, 0, 0, 0, 0, 0, 0, 1, 0, 1, 0, 1, 1, 0, 0, 0,\n",
       "       0, 1, 0, 0, 1, 0, 0, 0, 0, 1, 1, 0, 0, 0, 1, 0, 0, 0, 0, 1, 0, 0,\n",
       "       0, 0, 1, 0, 0, 0, 0, 1, 0, 0, 0, 1, 1, 0, 0, 0, 0, 0, 1, 0, 0, 0,\n",
       "       0, 0, 0, 0, 0, 0, 0, 1, 1, 0, 1, 1, 0, 0, 1, 0, 1, 1, 1, 1, 0, 0,\n",
       "       1, 0, 0, 0, 0, 0, 1, 0, 0, 1, 1, 1, 0, 1, 0, 0, 0, 1, 1, 0, 1, 0,\n",
       "       1, 0, 0, 0, 1, 0, 1, 0, 0, 0, 1, 0, 0, 1, 0, 0, 0, 1, 0, 0, 0, 1,\n",
       "       0, 0, 0, 0, 0, 1, 1, 0, 0, 0, 0, 0, 0, 1, 1, 1, 1, 1, 0, 1, 0, 0,\n",
       "       0, 0, 0, 1, 1, 1, 0, 1, 1, 0, 1, 1, 0, 0, 0, 1, 0, 0, 0, 1, 0, 0,\n",
       "       1, 0, 1, 1, 1, 1, 0, 0, 0, 0, 0, 0, 1, 1, 1, 1, 0, 1, 0, 1, 1, 1,\n",
       "       0, 1, 1, 1, 0, 0, 0, 1, 1, 0, 1, 1, 0, 0, 1, 1, 0, 1, 0, 1, 1, 1,\n",
       "       1, 0, 0, 0, 1, 0, 0, 1, 1, 0, 1, 1, 0, 0, 0, 1, 1, 1, 1, 0, 0, 0,\n",
       "       0, 0, 0, 0, 1, 0, 1, 1, 0, 0, 0, 0, 0, 0, 1, 1, 1, 1, 1, 0, 0, 0,\n",
       "       0, 1, 1, 0, 0, 0, 1, 1, 0, 1, 0, 0, 0, 1, 0, 1, 1, 1, 0, 1, 1, 0,\n",
       "       0, 0, 0, 1, 1, 0, 0, 0, 0, 0, 0, 1, 0, 0, 0, 0, 1, 0, 1, 0, 1, 1,\n",
       "       0, 0, 0, 0, 0, 0, 0, 0, 1, 1, 0, 1, 1, 1, 1, 0, 0, 1, 0, 1, 0, 0,\n",
       "       1, 0, 0, 1, 1, 1, 1, 1, 1, 1, 0, 0, 0, 1, 0, 1, 0, 1, 1, 0, 1, 0,\n",
       "       0, 0, 0, 0, 0, 0, 0, 1, 0, 0, 1, 1, 0, 0, 0, 0, 0, 1, 0, 0, 0, 1,\n",
       "       1, 0, 1, 0, 0, 1, 0, 0, 0, 0, 0, 0, 1, 0, 0, 0, 0, 0, 0, 0, 1, 0,\n",
       "       1, 1, 0, 1, 1, 0, 1, 1, 0, 0, 1, 0, 1, 0, 1, 0, 0, 1, 0, 0, 1, 0,\n",
       "       0, 0, 1, 0, 0, 1, 0, 1, 0, 1, 0, 1, 1, 0, 0, 1, 0, 0, 1, 1, 0, 1,\n",
       "       1, 0, 0, 1, 1, 0, 1, 0, 1, 1, 0, 0, 0, 0, 0, 0, 0, 0, 0, 1, 1, 1,\n",
       "       1, 1, 0, 0, 1, 1, 0, 1, 1, 1, 0, 0, 0, 1, 0, 1, 0, 0, 0, 1, 0, 0,\n",
       "       0, 0, 1, 0, 0, 1, 1, 0, 0, 0, 1, 0, 0, 1, 1, 1, 0, 0, 1, 0, 0, 1,\n",
       "       0, 0, 1, 0, 0, 1, 1, 0, 0, 0, 0, 1, 0, 0, 1, 0, 1, 0, 0, 1, 0, 0,\n",
       "       0, 0, 0, 1, 0, 1, 1, 1, 0, 1, 0, 1, 0, 1, 0, 1, 0, 0, 0, 0, 0, 0,\n",
       "       1, 0, 0, 0, 1, 0, 0, 0, 0, 1, 1, 0, 0, 1, 0, 0, 0, 1, 0, 1, 0, 1,\n",
       "       0, 0, 0, 0, 0, 0, 0, 1, 1, 1, 1, 0, 0, 0, 0, 1, 0, 0, 1, 1, 0, 0,\n",
       "       0, 0, 1, 1, 1, 1, 1, 0, 1, 0, 0, 0, 1, 1, 0, 0, 1, 0, 0, 0, 1, 0,\n",
       "       1, 1, 0, 0, 1, 0, 0, 0, 0, 0, 0, 1, 0, 0, 1, 0, 1, 0, 1, 0, 0, 1,\n",
       "       0, 0, 1, 1, 0, 0, 1, 1, 0, 0, 0, 1, 0, 0, 1, 1, 0, 1, 0, 0, 0, 0,\n",
       "       0, 0, 0, 0, 1, 0, 0, 1, 0, 1, 1, 1, 0, 0, 0, 0, 1, 0, 1, 0, 0, 0,\n",
       "       0, 0, 0, 0, 1, 1, 0, 0, 0, 1, 1, 1, 1, 0, 0, 0, 0, 1, 0, 0, 0, 0,\n",
       "       0, 0, 0, 0, 0, 0, 1, 1, 0, 1, 0, 0, 0, 1, 1, 1, 1, 1, 0, 0, 0, 1,\n",
       "       0, 0, 1, 1, 0, 0, 1, 0, 0, 0, 0, 0, 0, 1, 0, 0, 0, 1, 0, 1, 1, 1,\n",
       "       1, 0, 0, 0, 1, 0, 0, 1, 1, 0, 0, 1, 0, 1, 0, 0, 1, 1, 0, 0, 0, 1,\n",
       "       1, 0, 0, 0, 0, 0, 0, 1, 0, 1, 0], dtype=int64)"
      ]
     },
     "execution_count": 28,
     "metadata": {},
     "output_type": "execute_result"
    }
   ],
   "source": [
    "y"
   ]
  },
  {
   "cell_type": "code",
   "execution_count": 30,
   "id": "announced-contents",
   "metadata": {},
   "outputs": [
    {
     "name": "stdout",
     "output_type": "stream",
     "text": [
      "(891, 34) (891,)\n"
     ]
    }
   ],
   "source": [
    "print(X.shape, y.shape)"
   ]
  },
  {
   "cell_type": "markdown",
   "id": "danish-negotiation",
   "metadata": {},
   "source": [
    "##### Split Train and Test Matrix in 80:20 Ratio"
   ]
  },
  {
   "cell_type": "code",
   "execution_count": 33,
   "id": "rural-challenge",
   "metadata": {},
   "outputs": [
    {
     "name": "stdout",
     "output_type": "stream",
     "text": [
      "Requirement already satisfied: scikit-learn in c:\\users\\avate avil\\appdata\\local\\programs\\python\\python39\\lib\\site-packages (0.24.1)\n",
      "Requirement already satisfied: numpy>=1.13.3 in c:\\users\\avate avil\\appdata\\local\\programs\\python\\python39\\lib\\site-packages (from scikit-learn) (1.20.1)\n",
      "Requirement already satisfied: joblib>=0.11 in c:\\users\\avate avil\\appdata\\local\\programs\\python\\python39\\lib\\site-packages (from scikit-learn) (1.0.1)\n",
      "Requirement already satisfied: threadpoolctl>=2.0.0 in c:\\users\\avate avil\\appdata\\local\\programs\\python\\python39\\lib\\site-packages (from scikit-learn) (2.1.0)\n",
      "Requirement already satisfied: scipy>=0.19.1 in c:\\users\\avate avil\\appdata\\local\\programs\\python\\python39\\lib\\site-packages (from scikit-learn) (1.6.1)\n"
     ]
    }
   ],
   "source": [
    "!pip install scikit-learn"
   ]
  },
  {
   "cell_type": "code",
   "execution_count": 34,
   "id": "competitive-supplement",
   "metadata": {},
   "outputs": [],
   "source": [
    "from sklearn.model_selection import train_test_split\n",
    "X_train, X_test, y_train, y_test=train_test_split(X, y, test_size=0.2, random_state=0)"
   ]
  },
  {
   "cell_type": "markdown",
   "id": "wrapped-damages",
   "metadata": {},
   "source": [
    "##### Check positive case data (Survival Rate) in train and test y matrics"
   ]
  },
  {
   "cell_type": "code",
   "execution_count": 44,
   "id": "imperial-decade",
   "metadata": {},
   "outputs": [
    {
     "name": "stdout",
     "output_type": "stream",
     "text": [
      "Survival Rate:  0.38342696629213485\n"
     ]
    }
   ],
   "source": [
    "#average Survival in train and test data\n",
    "print(\"Survival Rate: \",np.mean(y_train))\n",
    "\n"
   ]
  },
  {
   "cell_type": "code",
   "execution_count": 41,
   "id": "rational-genre",
   "metadata": {},
   "outputs": [
    {
     "data": {
      "text/plain": [
       "0.3854748603351955"
      ]
     },
     "execution_count": 41,
     "metadata": {},
     "output_type": "execute_result"
    }
   ],
   "source": [
    "y_test.mean()"
   ]
  },
  {
   "cell_type": "code",
   "execution_count": 47,
   "id": "desirable-taxation",
   "metadata": {},
   "outputs": [
    {
     "data": {
      "text/plain": [
       "'0.24.1'"
      ]
     },
     "execution_count": 47,
     "metadata": {},
     "output_type": "execute_result"
    }
   ],
   "source": [
    "sklearn.__version__"
   ]
  },
  {
   "cell_type": "code",
   "execution_count": 48,
   "id": "occupied-forwarding",
   "metadata": {},
   "outputs": [],
   "source": [
    "from sklearn.dummy import DummyClassifier"
   ]
  },
  {
   "cell_type": "markdown",
   "id": "incredible-finance",
   "metadata": {},
   "source": [
    "##### Create the dummy classifier"
   ]
  },
  {
   "cell_type": "code",
   "execution_count": 49,
   "id": "requested-recovery",
   "metadata": {},
   "outputs": [],
   "source": [
    "dummy_model= DummyClassifier(strategy=\"most_frequent\", random_state=0)"
   ]
  },
  {
   "cell_type": "markdown",
   "id": "medium-surgeon",
   "metadata": {},
   "source": [
    "##### Train the model"
   ]
  },
  {
   "cell_type": "code",
   "execution_count": 51,
   "id": "frequent-spotlight",
   "metadata": {},
   "outputs": [
    {
     "data": {
      "text/plain": [
       "DummyClassifier(random_state=0, strategy='most_frequent')"
      ]
     },
     "execution_count": 51,
     "metadata": {},
     "output_type": "execute_result"
    }
   ],
   "source": [
    "dummy_model.fit(X_train, y_train)"
   ]
  },
  {
   "cell_type": "markdown",
   "id": "hundred-helmet",
   "metadata": {},
   "source": [
    "##### Test the model"
   ]
  },
  {
   "cell_type": "code",
   "execution_count": 52,
   "id": "impossible-engagement",
   "metadata": {},
   "outputs": [],
   "source": [
    "accuracy = dummy_model.score(X_test, y_test)"
   ]
  },
  {
   "cell_type": "code",
   "execution_count": 59,
   "id": "single-composer",
   "metadata": {},
   "outputs": [
    {
     "name": "stdout",
     "output_type": "stream",
     "text": [
      "Accuracy of the dummy classifier is 0.61\n"
     ]
    }
   ],
   "source": [
    "print (\"Accuracy of the dummy classifier is {0:.2f}\".format(accuracy))\n"
   ]
  },
  {
   "cell_type": "markdown",
   "id": "sized-proportion",
   "metadata": {},
   "source": [
    "### Preparing Kaggle Submission"
   ]
  },
  {
   "cell_type": "code",
   "execution_count": 69,
   "id": "accompanied-personal",
   "metadata": {},
   "outputs": [],
   "source": [
    "test_df.drop(\"Cabin\", axis=1, inplace=True)"
   ]
  },
  {
   "cell_type": "code",
   "execution_count": 70,
   "id": "played-chemistry",
   "metadata": {},
   "outputs": [],
   "source": [
    "test_X=test_df.to_numpy().astype('float')"
   ]
  },
  {
   "cell_type": "code",
   "execution_count": 71,
   "id": "acknowledged-guest",
   "metadata": {},
   "outputs": [],
   "source": [
    "predictions= dummy_model.predict(test_X)"
   ]
  },
  {
   "cell_type": "code",
   "execution_count": 72,
   "id": "guided-execution",
   "metadata": {},
   "outputs": [
    {
     "data": {
      "text/plain": [
       "418"
      ]
     },
     "execution_count": 72,
     "metadata": {},
     "output_type": "execute_result"
    }
   ],
   "source": [
    "len(predictions)"
   ]
  },
  {
   "cell_type": "code",
   "execution_count": 73,
   "id": "figured-discharge",
   "metadata": {},
   "outputs": [
    {
     "data": {
      "text/plain": [
       "418"
      ]
     },
     "execution_count": 73,
     "metadata": {},
     "output_type": "execute_result"
    }
   ],
   "source": [
    "len(test_df)"
   ]
  },
  {
   "cell_type": "code",
   "execution_count": 83,
   "id": "driven-genealogy",
   "metadata": {},
   "outputs": [],
   "source": [
    "df_submission=pd.DataFrame({'PassengerId':test_df.index,'Survived':predictions})"
   ]
  },
  {
   "cell_type": "code",
   "execution_count": 75,
   "id": "removed-gravity",
   "metadata": {},
   "outputs": [
    {
     "data": {
      "text/html": [
       "<div>\n",
       "<style scoped>\n",
       "    .dataframe tbody tr th:only-of-type {\n",
       "        vertical-align: middle;\n",
       "    }\n",
       "\n",
       "    .dataframe tbody tr th {\n",
       "        vertical-align: top;\n",
       "    }\n",
       "\n",
       "    .dataframe thead th {\n",
       "        text-align: right;\n",
       "    }\n",
       "</style>\n",
       "<table border=\"1\" class=\"dataframe\">\n",
       "  <thead>\n",
       "    <tr style=\"text-align: right;\">\n",
       "      <th></th>\n",
       "      <th>PassengerId</th>\n",
       "      <th>Survived</th>\n",
       "    </tr>\n",
       "  </thead>\n",
       "  <tbody>\n",
       "    <tr>\n",
       "      <th>0</th>\n",
       "      <td>892</td>\n",
       "      <td>0</td>\n",
       "    </tr>\n",
       "    <tr>\n",
       "      <th>1</th>\n",
       "      <td>893</td>\n",
       "      <td>0</td>\n",
       "    </tr>\n",
       "    <tr>\n",
       "      <th>2</th>\n",
       "      <td>894</td>\n",
       "      <td>0</td>\n",
       "    </tr>\n",
       "    <tr>\n",
       "      <th>3</th>\n",
       "      <td>895</td>\n",
       "      <td>0</td>\n",
       "    </tr>\n",
       "    <tr>\n",
       "      <th>4</th>\n",
       "      <td>896</td>\n",
       "      <td>0</td>\n",
       "    </tr>\n",
       "    <tr>\n",
       "      <th>...</th>\n",
       "      <td>...</td>\n",
       "      <td>...</td>\n",
       "    </tr>\n",
       "    <tr>\n",
       "      <th>413</th>\n",
       "      <td>1305</td>\n",
       "      <td>0</td>\n",
       "    </tr>\n",
       "    <tr>\n",
       "      <th>414</th>\n",
       "      <td>1306</td>\n",
       "      <td>0</td>\n",
       "    </tr>\n",
       "    <tr>\n",
       "      <th>415</th>\n",
       "      <td>1307</td>\n",
       "      <td>0</td>\n",
       "    </tr>\n",
       "    <tr>\n",
       "      <th>416</th>\n",
       "      <td>1308</td>\n",
       "      <td>0</td>\n",
       "    </tr>\n",
       "    <tr>\n",
       "      <th>417</th>\n",
       "      <td>1309</td>\n",
       "      <td>0</td>\n",
       "    </tr>\n",
       "  </tbody>\n",
       "</table>\n",
       "<p>418 rows × 2 columns</p>\n",
       "</div>"
      ],
      "text/plain": [
       "     PassengerId  Survived\n",
       "0            892         0\n",
       "1            893         0\n",
       "2            894         0\n",
       "3            895         0\n",
       "4            896         0\n",
       "..           ...       ...\n",
       "413         1305         0\n",
       "414         1306         0\n",
       "415         1307         0\n",
       "416         1308         0\n",
       "417         1309         0\n",
       "\n",
       "[418 rows x 2 columns]"
      ]
     },
     "execution_count": 75,
     "metadata": {},
     "output_type": "execute_result"
    }
   ],
   "source": [
    "df_submission"
   ]
  },
  {
   "cell_type": "markdown",
   "id": "framed-chinese",
   "metadata": {},
   "source": [
    "### Create Kaggle Submission file"
   ]
  },
  {
   "cell_type": "code",
   "execution_count": 80,
   "id": "impossible-grade",
   "metadata": {},
   "outputs": [],
   "source": [
    "submission_data_path=os.path.join(os.pardir, 'data', 'external')\n",
    "submission_file_path= os.path.join(submission_data_path,\"01_dummy.csv\")"
   ]
  },
  {
   "cell_type": "code",
   "execution_count": 84,
   "id": "adopted-tuner",
   "metadata": {},
   "outputs": [],
   "source": [
    "df_submission.to_csv(submission_file_path, index=False)"
   ]
  },
  {
   "cell_type": "code",
   "execution_count": 85,
   "id": "clinical-taste",
   "metadata": {},
   "outputs": [],
   "source": [
    "from  sklearn.linear_model import LogisticRegression"
   ]
  },
  {
   "cell_type": "code",
   "execution_count": 86,
   "id": "compound-period",
   "metadata": {},
   "outputs": [],
   "source": [
    "model=LogisticRegression(random_state=0)"
   ]
  },
  {
   "cell_type": "code",
   "execution_count": 87,
   "id": "desperate-freeze",
   "metadata": {},
   "outputs": [
    {
     "name": "stderr",
     "output_type": "stream",
     "text": [
      "c:\\users\\avate avil\\appdata\\local\\programs\\python\\python39\\lib\\site-packages\\sklearn\\linear_model\\_logistic.py:763: ConvergenceWarning: lbfgs failed to converge (status=1):\n",
      "STOP: TOTAL NO. of ITERATIONS REACHED LIMIT.\n",
      "\n",
      "Increase the number of iterations (max_iter) or scale the data as shown in:\n",
      "    https://scikit-learn.org/stable/modules/preprocessing.html\n",
      "Please also refer to the documentation for alternative solver options:\n",
      "    https://scikit-learn.org/stable/modules/linear_model.html#logistic-regression\n",
      "  n_iter_i = _check_optimize_result(\n"
     ]
    },
    {
     "data": {
      "text/plain": [
       "LogisticRegression(random_state=0)"
      ]
     },
     "execution_count": 87,
     "metadata": {},
     "output_type": "execute_result"
    }
   ],
   "source": [
    "model.fit(X_train, y_train)"
   ]
  },
  {
   "cell_type": "code",
   "execution_count": 88,
   "id": "proved-intranet",
   "metadata": {},
   "outputs": [
    {
     "data": {
      "text/plain": [
       "0.8324022346368715"
      ]
     },
     "execution_count": 88,
     "metadata": {},
     "output_type": "execute_result"
    }
   ],
   "source": [
    "model.score(X_test, y_test)"
   ]
  },
  {
   "cell_type": "code",
   "execution_count": null,
   "id": "otherwise-hartford",
   "metadata": {},
   "outputs": [],
   "source": []
  }
 ],
 "metadata": {
  "kernelspec": {
   "display_name": "Python 3",
   "language": "python",
   "name": "python3"
  },
  "language_info": {
   "codemirror_mode": {
    "name": "ipython",
    "version": 3
   },
   "file_extension": ".py",
   "mimetype": "text/x-python",
   "name": "python",
   "nbconvert_exporter": "python",
   "pygments_lexer": "ipython3",
   "version": "3.9.2"
  }
 },
 "nbformat": 4,
 "nbformat_minor": 5
}
